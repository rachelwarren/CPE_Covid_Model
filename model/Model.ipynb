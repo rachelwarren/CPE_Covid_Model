{
 "cells": [
  {
   "cell_type": "code",
   "execution_count": 82,
   "metadata": {},
   "outputs": [],
   "source": [
    "import sys\n",
    "\n",
    "import numpy as np\n",
    "import matplotlib.pyplot as plt\n",
    "import pandas as pd\n",
    "import os\n",
    "import prep_for_model_runs as prep\n",
    "import model_params_class as mp\n",
    "import run_models as run\n"
   ]
  },
  {
   "cell_type": "code",
   "execution_count": 83,
   "metadata": {
    "pycharm": {
     "name": "#%%\n"
    }
   },
   "outputs": [
    {
     "name": "stdout",
     "output_type": "stream",
     "text": [
      "The autoreload extension is already loaded. To reload it, use:\n",
      "  %reload_ext autoreload\n"
     ]
    }
   ],
   "source": [
    "%load_ext autoreload\n",
    "\n",
    "%autoreload 2"
   ]
  },
  {
   "cell_type": "markdown",
   "metadata": {
    "pycharm": {
     "name": "#%% md\n"
    }
   },
   "source": [
    "## Deterministic SIR model for multi-groups \n",
    "See: https://www.ncbi.nlm.nih.gov/pmc/articles/PMC4002176/\n",
    "\n",
    "\n",
    "The model works like this: \n",
    "- Let's say we have N groups with size n_0 .... n_N\n",
    "- Define four vectors (S = 'Susceptible, I = Infected, R = Recovered, D = Died) for each of the groups\n",
    "    - for example: $\\vec{I} = < I_0, I_1 \\dots I_N >$ is the vector for the number of currently infected people in each subpopulation\n",
    "- Assume a \"contact matrix\" $C = c_{ij} $ where $c_{ij}$ is the expected rate of contacts between groups i and j.\n",
    "    - for example if $c_{i,j}$ = 0.1 that means that average number of contacts that an individual in group i has with group j is 0.1 --> i.e. there is a 1/10 chance they see anyone \n",
    "- Assume a \"transmission matrix\" $T = t_{ij}$ where $t_{ij}$  is the expected transmission between groups i and j if they make contact\n",
    "    - The following code assumes that this is 1 (e.g. transmission rate is rolled into contact matrix) and is constant across groups. \n",
    "    - In a more sophisticated model, this assumption is not true. The transmission rate should not even be reciprocal. For example, if police are wearing masks when they interact with a community member, but there hands are equipment are dirty transmission rate could be higher in one direction. Transmission rate could also be higher for different types of interactions\n",
    "- $\\vec{\\gamma}$ is the recovery rate .. e.g. $\\gamma_i$ the likelihood that on a given day a sick person in group i recovers. We are using 1/14\n",
    "- $\\vec{\\mu}$ is the death rate (divided by average disease duration) for each group\n",
    "\n",
    "Combining contact and transmission, we can define a vector $\\vec{\\lambda}$ where $\\lambda_i$ is the new infection rate (called the force of infection in the literature). \n",
    "\n",
    "- Force of infection = contact x transmission or $\\lambda_i = \\sum_j^N c_{ij} * t_{ij} $\n",
    "\n",
    "Given $\\vec{\\lambda}$ the vector with contact rate * transmission rate, we can define our differential equations as follows:(Note that $t$ is current time and $t-1$ is previous time point. \n",
    "\n",
    "- Sub population totals : $\\vec{N} = \\vec{I_t} + \\vec{R_t} + \\vec{S_t} + \\vec{D_t}$\n",
    "- Susceptible number of people by sup-population: $\\vec{S_t} = \\vec{S_{t-1}} - \\vec{I_{t-1}}$\n",
    "- Infected by subpopulation $\\vec{I_t} = \\vec{I_{t-1}}+  \\vec{\\lambda} * \\vec{S_{t-1}} * \\frac{\\vec{I_{t-1}}}{\\vec{N}} - \\vec{\\gamma} \\vec{I_{t-1}} - \\vec{\\mu} \\vec{I_{t-1}}$ \n",
    "    - $\\vec{I_t} =$ infected people before + newly infected people - infected people who recover\n",
    "    - newly infected people = susceptible population * contact rate * transmission rate * proportion of population infected \n",
    "    - $\\frac{\\vec{I_{t-1}}}{\\vec{N}}$ is the proportion of members of each group that are infected\n",
    "- Recovered by Group: $\\vec{R_t} = \\vec{R_{t-1}} + \\vec{\\gamma} \\vec{I_{t-1}}$\n",
    "\n",
    "The implementation of this model does not used died, which simplifies it. "
   ]
  },
  {
   "cell_type": "code",
   "execution_count": 84,
   "metadata": {
    "pycharm": {
     "name": "#%%\n"
    }
   },
   "outputs": [],
   "source": [
    "#TODO add markdown with summary statistics meaning"
   ]
  },
  {
   "cell_type": "code",
   "execution_count": 85,
   "metadata": {},
   "outputs": [],
   "source": [
    "color_matrix = {'White': 'k',\n",
    "                'White_Forced_Labour' : 'r',\n",
    "                'Black' : 'g',\n",
    "                'Black_Forced_Labour': 'b',\n",
    "                'Black_Prison' : 'k',\n",
    "                'White_Police' : 'o',\n",
    "                'Black_Police' : 'p',\n",
    "                'White_Prison': 'y',\n",
    "                'Total_Residents': 'g'}"
   ]
  },
  {
   "cell_type": "code",
   "execution_count": 117,
   "metadata": {},
   "outputs": [],
   "source": [
    "def clean_df_names(df):\n",
    "    df.columns = df.columns.str.strip()\n",
    "    df.index = df.index.map(lambda s: s.strip())\n",
    "    return df"
   ]
  },
  {
   "cell_type": "code",
   "execution_count": 118,
   "metadata": {},
   "outputs": [],
   "source": [
    "\"\"\"Run multiple versions of the model, varying certain parameters to quantify uncertainty\n",
    "\n",
    "params\n",
    "------\n",
    "base_dir: String\n",
    "    the name of the directory where contact matrices and group size matrices are stored\n",
    "    \n",
    "starting_params: object of class ModelParams\n",
    "    contains the initial parameters for the original model run\n",
    "    \n",
    "prison_peak_date: Int\n",
    "    the day on which the prison infection rate peaks\n",
    "    \n",
    "days: Int\n",
    "    the number of days to run the model for\n",
    "    \n",
    "returns\n",
    "-------\n",
    "monster_summary_stats: a DataFrame of all of the summary statistics for the model runs\n",
    "infection_maps: ???\n",
    "pd.concat(pop_sizes): ???\n",
    "\"\"\"\n",
    "def run_with_uncertainty(base_dir, starting_params, prison_peak_date, days):\n",
    "    monster_summary_stats = pd.DataFrame({})\n",
    "    infection_maps = {}\n",
    "    pop_sizes = []\n",
    "\n",
    "    for prison_infection_rate in [25, .35, .45]:\n",
    "        for pc in [5, 7.5, 10, 12.5,15]:\n",
    "            for pgrp in [13.8, 14.9, 16, 17, 18.2]:\n",
    "                \n",
    "                params = starting_params.add_uncertainty_params(prison_infection_rate, pc, pgrp)\n",
    "                \n",
    "                # get contact matrix\n",
    "                contact_data_post_sip = pd.read_csv(\n",
    "                    os.path.join(base_dir, prep.get_CONTACT_MATRIX_POST_LOCKDOWN(pc, pgrp)), \n",
    "                    index_col=0)\n",
    "                \n",
    "                \n",
    "                \n",
    "  \n",
    "                contact_data_pre_SIP = clean_df_names(pd.read_csv(os.path.join(base_dir, prep.get_CONTACT_MATRIX_PRE_LOCKDOWN(pc,pgrp)),\n",
    "                                                   index_col=0))\n",
    "    \n",
    "      \n",
    "                \n",
    "                group_size_data = clean_df_names(pd.read_csv(\n",
    "                    os.path.join(base_dir,prep.get_GROUP_SIZE_PATH(params.police_group_size))).set_index('Group'))\n",
    "                eq_group_size_data = clean_df_names(pd.read_csv(\n",
    "                    os.path.join(base_dir, prep.get_GROUP_SIZE_EQ_PATH(params.police_group_size))).set_index('Group'))\n",
    "                            \n",
    "                summary, infection_df, pop_size_df = run.run_models(\n",
    "                    base_dir, params, days, group_size_data,\n",
    "                    eq_group_size_data,contact_data_pre_SIP,\n",
    "                    contact_data_post_sip, prison_peak_date)                                             \n",
    "\n",
    "                infection_maps[params.get_name()] = infection_df\n",
    "                pop_sizes.append(pop_size_df)\n",
    "                \n",
    "                summary['Initial_Infections'] = starting_params.initial_infection_multiplier\n",
    "                summary['Lockdown_Date'] = starting_params.sip_start_date\n",
    "                summary['Prison_Rate'] = starting_params.prison_infection_rate\n",
    "                summary['Police_Contact_Rate'] = pc\n",
    "                summary['Police_Group_Size'] = pgrp \n",
    "                monster_summary_stats= monster_summary_stats.append(summary)\n",
    "    return monster_summary_stats, infection_maps, pd.concat(pop_sizes)\n",
    "    "
   ]
  },
  {
   "cell_type": "code",
   "execution_count": 119,
   "metadata": {},
   "outputs": [],
   "source": [
    "PRISON_PEAK_DATE = 3*7 #I think we'll want to change this to 35 once we're ready to publish the code;\n",
    "#I think that's the version Tracey/Phil used when writing\n",
    "TRANSMISSION_RATE = 0.015\n",
    "SIP_START_DATE  = 14\n",
    "INITIAL_INFECTION_RATE =10\n",
    "BASE_DIR = '../input_data/pc_pgrp_matrices/'\n",
    "starting_params = mp.ModelParams(TRANSMISSION_RATE, SIP_START_DATE, INITIAL_INFECTION_RATE)\n"
   ]
  },
  {
   "cell_type": "code",
   "execution_count": 120,
   "metadata": {},
   "outputs": [],
   "source": [
    "CONTACT_MATRIX_PATH = 'Contact_Matrix_Post_SIP.csv'\n",
    "PRE_SOCIAL_DISTANCE_CONTACT_MATRIX = \"Contact_Matrix_Pre_SIP.csv\"\n",
    "\n",
    "DAYS = 120"
   ]
  },
  {
   "cell_type": "code",
   "execution_count": 124,
   "metadata": {
    "pycharm": {
     "name": "#%%\n"
    }
   },
   "outputs": [],
   "source": [
    "monster_summary_stats, infection_maps, pop_sizes = run_with_uncertainty(\n",
    "    BASE_DIR, starting_params, PRISON_PEAK_DATE, DAYS)\n"
   ]
  },
  {
   "cell_type": "code",
   "execution_count": 125,
   "metadata": {
    "pycharm": {
     "name": "#%%\n"
    }
   },
   "outputs": [
    {
     "data": {
      "text/html": [
       "<div>\n",
       "<style scoped>\n",
       "    .dataframe tbody tr th:only-of-type {\n",
       "        vertical-align: middle;\n",
       "    }\n",
       "\n",
       "    .dataframe tbody tr th {\n",
       "        vertical-align: top;\n",
       "    }\n",
       "\n",
       "    .dataframe thead th {\n",
       "        text-align: right;\n",
       "    }\n",
       "</style>\n",
       "<table border=\"1\" class=\"dataframe\">\n",
       "  <thead>\n",
       "    <tr style=\"text-align: right;\">\n",
       "      <th></th>\n",
       "      <th>model_tag</th>\n",
       "      <th>cumulative_infected_40_days</th>\n",
       "      <th>cumulative_rate_40_days</th>\n",
       "      <th>active_rate_before_peak</th>\n",
       "      <th>cumulative_before_peak</th>\n",
       "      <th>cumulative_rate_before_peak</th>\n",
       "      <th>days_peak</th>\n",
       "      <th>peak_active_infected_rate</th>\n",
       "      <th>cumulative_peak</th>\n",
       "      <th>cumulative_rate_peak</th>\n",
       "      <th>active_rate_after_peak</th>\n",
       "      <th>cumulative_after_peak</th>\n",
       "      <th>cumulative_rate_after_peak</th>\n",
       "      <th>model_name</th>\n",
       "      <th>Initial_Infections</th>\n",
       "      <th>Lockdown_Date</th>\n",
       "      <th>Prison_Rate</th>\n",
       "      <th>Police_Contact_Rate</th>\n",
       "      <th>Police_Group_Size</th>\n",
       "    </tr>\n",
       "    <tr>\n",
       "      <th>Group</th>\n",
       "      <th></th>\n",
       "      <th></th>\n",
       "      <th></th>\n",
       "      <th></th>\n",
       "      <th></th>\n",
       "      <th></th>\n",
       "      <th></th>\n",
       "      <th></th>\n",
       "      <th></th>\n",
       "      <th></th>\n",
       "      <th></th>\n",
       "      <th></th>\n",
       "      <th></th>\n",
       "      <th></th>\n",
       "      <th></th>\n",
       "      <th></th>\n",
       "      <th></th>\n",
       "      <th></th>\n",
       "      <th></th>\n",
       "    </tr>\n",
       "  </thead>\n",
       "  <tbody>\n",
       "    <tr>\n",
       "      <th>Black</th>\n",
       "      <td>I10_PI25_L14___pc5_pgrp13.8</td>\n",
       "      <td>117589.0</td>\n",
       "      <td>0.203170</td>\n",
       "      <td>0.275107</td>\n",
       "      <td>257528.0</td>\n",
       "      <td>0.444956</td>\n",
       "      <td>54</td>\n",
       "      <td>0.275865</td>\n",
       "      <td>267408.0</td>\n",
       "      <td>0.462027</td>\n",
       "      <td>0.270847</td>\n",
       "      <td>294766.0</td>\n",
       "      <td>0.509296</td>\n",
       "      <td>original</td>\n",
       "      <td>10</td>\n",
       "      <td>14</td>\n",
       "      <td>25.0</td>\n",
       "      <td>5.0</td>\n",
       "      <td>13.8</td>\n",
       "    </tr>\n",
       "    <tr>\n",
       "      <th>Black_Forced_Labour</th>\n",
       "      <td>I10_PI25_L14___pc5_pgrp13.8</td>\n",
       "      <td>38746.0</td>\n",
       "      <td>0.424715</td>\n",
       "      <td>0.558754</td>\n",
       "      <td>81455.0</td>\n",
       "      <td>0.892870</td>\n",
       "      <td>49</td>\n",
       "      <td>0.618036</td>\n",
       "      <td>73516.0</td>\n",
       "      <td>0.805847</td>\n",
       "      <td>0.415940</td>\n",
       "      <td>85437.0</td>\n",
       "      <td>0.936519</td>\n",
       "      <td>original</td>\n",
       "      <td>10</td>\n",
       "      <td>14</td>\n",
       "      <td>25.0</td>\n",
       "      <td>5.0</td>\n",
       "      <td>13.8</td>\n",
       "    </tr>\n",
       "    <tr>\n",
       "      <th>White</th>\n",
       "      <td>I10_PI25_L14___pc5_pgrp13.8</td>\n",
       "      <td>228277.0</td>\n",
       "      <td>0.085173</td>\n",
       "      <td>0.177505</td>\n",
       "      <td>659912.0</td>\n",
       "      <td>0.246223</td>\n",
       "      <td>62</td>\n",
       "      <td>0.211054</td>\n",
       "      <td>999039.0</td>\n",
       "      <td>0.372756</td>\n",
       "      <td>0.200827</td>\n",
       "      <td>816613.0</td>\n",
       "      <td>0.304690</td>\n",
       "      <td>original</td>\n",
       "      <td>10</td>\n",
       "      <td>14</td>\n",
       "      <td>25.0</td>\n",
       "      <td>5.0</td>\n",
       "      <td>13.8</td>\n",
       "    </tr>\n",
       "    <tr>\n",
       "      <th>White_Forced_Labour</th>\n",
       "      <td>I10_PI25_L14___pc5_pgrp13.8</td>\n",
       "      <td>125765.0</td>\n",
       "      <td>0.370052</td>\n",
       "      <td>0.585615</td>\n",
       "      <td>294927.0</td>\n",
       "      <td>0.867795</td>\n",
       "      <td>50</td>\n",
       "      <td>0.623668</td>\n",
       "      <td>271622.0</td>\n",
       "      <td>0.799223</td>\n",
       "      <td>0.453209</td>\n",
       "      <td>312417.0</td>\n",
       "      <td>0.919258</td>\n",
       "      <td>original</td>\n",
       "      <td>10</td>\n",
       "      <td>14</td>\n",
       "      <td>25.0</td>\n",
       "      <td>5.0</td>\n",
       "      <td>13.8</td>\n",
       "    </tr>\n",
       "    <tr>\n",
       "      <th>Total_Residents</th>\n",
       "      <td>I10_PI25_L14___pc5_pgrp13.8</td>\n",
       "      <td>510376.0</td>\n",
       "      <td>0.138313</td>\n",
       "      <td>0.239827</td>\n",
       "      <td>1293822.0</td>\n",
       "      <td>0.350629</td>\n",
       "      <td>55</td>\n",
       "      <td>0.242472</td>\n",
       "      <td>1404691.0</td>\n",
       "      <td>0.380675</td>\n",
       "      <td>0.240373</td>\n",
       "      <td>1509234.0</td>\n",
       "      <td>0.409007</td>\n",
       "      <td>original</td>\n",
       "      <td>10</td>\n",
       "      <td>14</td>\n",
       "      <td>25.0</td>\n",
       "      <td>5.0</td>\n",
       "      <td>13.8</td>\n",
       "    </tr>\n",
       "  </tbody>\n",
       "</table>\n",
       "</div>"
      ],
      "text/plain": [
       "                                       model_tag  cumulative_infected_40_days  \\\n",
       "Group                                                                           \n",
       "Black                I10_PI25_L14___pc5_pgrp13.8                     117589.0   \n",
       "Black_Forced_Labour  I10_PI25_L14___pc5_pgrp13.8                      38746.0   \n",
       "White                I10_PI25_L14___pc5_pgrp13.8                     228277.0   \n",
       "White_Forced_Labour  I10_PI25_L14___pc5_pgrp13.8                     125765.0   \n",
       "Total_Residents      I10_PI25_L14___pc5_pgrp13.8                     510376.0   \n",
       "\n",
       "                     cumulative_rate_40_days  active_rate_before_peak  \\\n",
       "Group                                                                   \n",
       "Black                               0.203170                 0.275107   \n",
       "Black_Forced_Labour                 0.424715                 0.558754   \n",
       "White                               0.085173                 0.177505   \n",
       "White_Forced_Labour                 0.370052                 0.585615   \n",
       "Total_Residents                     0.138313                 0.239827   \n",
       "\n",
       "                     cumulative_before_peak  cumulative_rate_before_peak  \\\n",
       "Group                                                                      \n",
       "Black                              257528.0                     0.444956   \n",
       "Black_Forced_Labour                 81455.0                     0.892870   \n",
       "White                              659912.0                     0.246223   \n",
       "White_Forced_Labour                294927.0                     0.867795   \n",
       "Total_Residents                   1293822.0                     0.350629   \n",
       "\n",
       "                     days_peak  peak_active_infected_rate  cumulative_peak  \\\n",
       "Group                                                                        \n",
       "Black                       54                   0.275865         267408.0   \n",
       "Black_Forced_Labour         49                   0.618036          73516.0   \n",
       "White                       62                   0.211054         999039.0   \n",
       "White_Forced_Labour         50                   0.623668         271622.0   \n",
       "Total_Residents             55                   0.242472        1404691.0   \n",
       "\n",
       "                     cumulative_rate_peak  active_rate_after_peak  \\\n",
       "Group                                                               \n",
       "Black                            0.462027                0.270847   \n",
       "Black_Forced_Labour              0.805847                0.415940   \n",
       "White                            0.372756                0.200827   \n",
       "White_Forced_Labour              0.799223                0.453209   \n",
       "Total_Residents                  0.380675                0.240373   \n",
       "\n",
       "                     cumulative_after_peak  cumulative_rate_after_peak  \\\n",
       "Group                                                                    \n",
       "Black                             294766.0                    0.509296   \n",
       "Black_Forced_Labour                85437.0                    0.936519   \n",
       "White                             816613.0                    0.304690   \n",
       "White_Forced_Labour               312417.0                    0.919258   \n",
       "Total_Residents                  1509234.0                    0.409007   \n",
       "\n",
       "                    model_name  Initial_Infections  Lockdown_Date  \\\n",
       "Group                                                               \n",
       "Black                 original                  10             14   \n",
       "Black_Forced_Labour   original                  10             14   \n",
       "White                 original                  10             14   \n",
       "White_Forced_Labour   original                  10             14   \n",
       "Total_Residents       original                  10             14   \n",
       "\n",
       "                     Prison_Rate  Police_Contact_Rate  Police_Group_Size  \n",
       "Group                                                                     \n",
       "Black                       25.0                  5.0               13.8  \n",
       "Black_Forced_Labour         25.0                  5.0               13.8  \n",
       "White                       25.0                  5.0               13.8  \n",
       "White_Forced_Labour         25.0                  5.0               13.8  \n",
       "Total_Residents             25.0                  5.0               13.8  "
      ]
     },
     "execution_count": 125,
     "metadata": {},
     "output_type": "execute_result"
    }
   ],
   "source": [
    "monster_summary_stats.head()"
   ]
  },
  {
   "cell_type": "code",
   "execution_count": 126,
   "metadata": {},
   "outputs": [],
   "source": [
    "pop_sizes.to_csv('group_sizes.csv')"
   ]
  },
  {
   "cell_type": "code",
   "execution_count": 127,
   "metadata": {},
   "outputs": [
    {
     "ename": "FileNotFoundError",
     "evalue": "[Errno 2] No such file or directory: 'final_output/all_model_summary_stats.csv'",
     "output_type": "error",
     "traceback": [
      "\u001b[0;31m---------------------------------------------------------------------------\u001b[0m",
      "\u001b[0;31mFileNotFoundError\u001b[0m                         Traceback (most recent call last)",
      "\u001b[0;32m<ipython-input-127-90e650d3c4a3>\u001b[0m in \u001b[0;36m<module>\u001b[0;34m\u001b[0m\n\u001b[1;32m      1\u001b[0m \u001b[0mmonster_path\u001b[0m \u001b[0;34m=\u001b[0m \u001b[0;34m'final_output/all_model_summary_stats.csv'\u001b[0m\u001b[0;34m\u001b[0m\u001b[0;34m\u001b[0m\u001b[0m\n\u001b[0;32m----> 2\u001b[0;31m \u001b[0mmonster_summary_stats\u001b[0m\u001b[0;34m.\u001b[0m\u001b[0mto_csv\u001b[0m\u001b[0;34m(\u001b[0m\u001b[0mmonster_path\u001b[0m\u001b[0;34m)\u001b[0m\u001b[0;34m\u001b[0m\u001b[0;34m\u001b[0m\u001b[0m\n\u001b[0m",
      "\u001b[0;32m/opt/anaconda3/lib/python3.7/site-packages/pandas/core/generic.py\u001b[0m in \u001b[0;36mto_csv\u001b[0;34m(self, path_or_buf, sep, na_rep, float_format, columns, header, index, index_label, mode, encoding, compression, quoting, quotechar, line_terminator, chunksize, date_format, doublequote, escapechar, decimal)\u001b[0m\n\u001b[1;32m   3202\u001b[0m             \u001b[0mdecimal\u001b[0m\u001b[0;34m=\u001b[0m\u001b[0mdecimal\u001b[0m\u001b[0;34m,\u001b[0m\u001b[0;34m\u001b[0m\u001b[0;34m\u001b[0m\u001b[0m\n\u001b[1;32m   3203\u001b[0m         )\n\u001b[0;32m-> 3204\u001b[0;31m         \u001b[0mformatter\u001b[0m\u001b[0;34m.\u001b[0m\u001b[0msave\u001b[0m\u001b[0;34m(\u001b[0m\u001b[0;34m)\u001b[0m\u001b[0;34m\u001b[0m\u001b[0;34m\u001b[0m\u001b[0m\n\u001b[0m\u001b[1;32m   3205\u001b[0m \u001b[0;34m\u001b[0m\u001b[0m\n\u001b[1;32m   3206\u001b[0m         \u001b[0;32mif\u001b[0m \u001b[0mpath_or_buf\u001b[0m \u001b[0;32mis\u001b[0m \u001b[0;32mNone\u001b[0m\u001b[0;34m:\u001b[0m\u001b[0;34m\u001b[0m\u001b[0;34m\u001b[0m\u001b[0m\n",
      "\u001b[0;32m/opt/anaconda3/lib/python3.7/site-packages/pandas/io/formats/csvs.py\u001b[0m in \u001b[0;36msave\u001b[0;34m(self)\u001b[0m\n\u001b[1;32m    186\u001b[0m                 \u001b[0mself\u001b[0m\u001b[0;34m.\u001b[0m\u001b[0mmode\u001b[0m\u001b[0;34m,\u001b[0m\u001b[0;34m\u001b[0m\u001b[0;34m\u001b[0m\u001b[0m\n\u001b[1;32m    187\u001b[0m                 \u001b[0mencoding\u001b[0m\u001b[0;34m=\u001b[0m\u001b[0mself\u001b[0m\u001b[0;34m.\u001b[0m\u001b[0mencoding\u001b[0m\u001b[0;34m,\u001b[0m\u001b[0;34m\u001b[0m\u001b[0;34m\u001b[0m\u001b[0m\n\u001b[0;32m--> 188\u001b[0;31m                 \u001b[0mcompression\u001b[0m\u001b[0;34m=\u001b[0m\u001b[0mdict\u001b[0m\u001b[0;34m(\u001b[0m\u001b[0mself\u001b[0m\u001b[0;34m.\u001b[0m\u001b[0mcompression_args\u001b[0m\u001b[0;34m,\u001b[0m \u001b[0mmethod\u001b[0m\u001b[0;34m=\u001b[0m\u001b[0mself\u001b[0m\u001b[0;34m.\u001b[0m\u001b[0mcompression\u001b[0m\u001b[0;34m)\u001b[0m\u001b[0;34m,\u001b[0m\u001b[0;34m\u001b[0m\u001b[0;34m\u001b[0m\u001b[0m\n\u001b[0m\u001b[1;32m    189\u001b[0m             )\n\u001b[1;32m    190\u001b[0m             \u001b[0mclose\u001b[0m \u001b[0;34m=\u001b[0m \u001b[0;32mTrue\u001b[0m\u001b[0;34m\u001b[0m\u001b[0;34m\u001b[0m\u001b[0m\n",
      "\u001b[0;32m/opt/anaconda3/lib/python3.7/site-packages/pandas/io/common.py\u001b[0m in \u001b[0;36mget_handle\u001b[0;34m(path_or_buf, mode, encoding, compression, memory_map, is_text)\u001b[0m\n\u001b[1;32m    426\u001b[0m         \u001b[0;32mif\u001b[0m \u001b[0mencoding\u001b[0m\u001b[0;34m:\u001b[0m\u001b[0;34m\u001b[0m\u001b[0;34m\u001b[0m\u001b[0m\n\u001b[1;32m    427\u001b[0m             \u001b[0;31m# Encoding\u001b[0m\u001b[0;34m\u001b[0m\u001b[0;34m\u001b[0m\u001b[0;34m\u001b[0m\u001b[0m\n\u001b[0;32m--> 428\u001b[0;31m             \u001b[0mf\u001b[0m \u001b[0;34m=\u001b[0m \u001b[0mopen\u001b[0m\u001b[0;34m(\u001b[0m\u001b[0mpath_or_buf\u001b[0m\u001b[0;34m,\u001b[0m \u001b[0mmode\u001b[0m\u001b[0;34m,\u001b[0m \u001b[0mencoding\u001b[0m\u001b[0;34m=\u001b[0m\u001b[0mencoding\u001b[0m\u001b[0;34m,\u001b[0m \u001b[0mnewline\u001b[0m\u001b[0;34m=\u001b[0m\u001b[0;34m\"\"\u001b[0m\u001b[0;34m)\u001b[0m\u001b[0;34m\u001b[0m\u001b[0;34m\u001b[0m\u001b[0m\n\u001b[0m\u001b[1;32m    429\u001b[0m         \u001b[0;32melif\u001b[0m \u001b[0mis_text\u001b[0m\u001b[0;34m:\u001b[0m\u001b[0;34m\u001b[0m\u001b[0;34m\u001b[0m\u001b[0m\n\u001b[1;32m    430\u001b[0m             \u001b[0;31m# No explicit encoding\u001b[0m\u001b[0;34m\u001b[0m\u001b[0;34m\u001b[0m\u001b[0;34m\u001b[0m\u001b[0m\n",
      "\u001b[0;31mFileNotFoundError\u001b[0m: [Errno 2] No such file or directory: 'final_output/all_model_summary_stats.csv'"
     ]
    }
   ],
   "source": [
    "monster_path = 'final_output/all_model_summary_stats.csv'\n",
    "monster_summary_stats.to_csv(monster_path)"
   ]
  },
  {
   "cell_type": "code",
   "execution_count": 128,
   "metadata": {},
   "outputs": [
    {
     "data": {
      "text/plain": [
       "model_name\n",
       "eq_forced_labour       450\n",
       "eq_police              450\n",
       "eq_police_prison       450\n",
       "eq_police_prison_fl    450\n",
       "eq_prison              450\n",
       "no_forced_labour       450\n",
       "no_police              450\n",
       "no_police_prison_fl    450\n",
       "no_prison              450\n",
       "no_prison_or_police    450\n",
       "original               450\n",
       "dtype: int64"
      ]
     },
     "execution_count": 128,
     "metadata": {},
     "output_type": "execute_result"
    }
   ],
   "source": [
    "monster_summary_stats.groupby('model_name').size()"
   ]
  },
  {
   "cell_type": "code",
   "execution_count": 129,
   "metadata": {},
   "outputs": [],
   "source": [
    "# Graph one of the models so we can check on the group sizes "
   ]
  },
  {
   "cell_type": "code",
   "execution_count": 130,
   "metadata": {
    "collapsed": true,
    "jupyter": {
     "outputs_hidden": true
    }
   },
   "outputs": [
    {
     "data": {
      "text/plain": [
       "dict_keys(['I10_PI25_L14___pc5_pgrp13.8', 'I10_PI25_L14___pc5_pgrp14.9', 'I10_PI25_L14___pc5_pgrp16', 'I10_PI25_L14___pc5_pgrp17', 'I10_PI25_L14___pc5_pgrp18.2', 'I10_PI25_L14___pc7.5_pgrp13.8', 'I10_PI25_L14___pc7.5_pgrp14.9', 'I10_PI25_L14___pc7.5_pgrp16', 'I10_PI25_L14___pc7.5_pgrp17', 'I10_PI25_L14___pc7.5_pgrp18.2', 'I10_PI25_L14___pc10_pgrp13.8', 'I10_PI25_L14___pc10_pgrp14.9', 'I10_PI25_L14___pc10_pgrp16', 'I10_PI25_L14___pc10_pgrp17', 'I10_PI25_L14___pc10_pgrp18.2', 'I10_PI25_L14___pc12.5_pgrp13.8', 'I10_PI25_L14___pc12.5_pgrp14.9', 'I10_PI25_L14___pc12.5_pgrp16', 'I10_PI25_L14___pc12.5_pgrp17', 'I10_PI25_L14___pc12.5_pgrp18.2', 'I10_PI25_L14___pc15_pgrp13.8', 'I10_PI25_L14___pc15_pgrp14.9', 'I10_PI25_L14___pc15_pgrp16', 'I10_PI25_L14___pc15_pgrp17', 'I10_PI25_L14___pc15_pgrp18.2', 'I10_PI0.35_L14___pc5_pgrp13.8', 'I10_PI0.35_L14___pc5_pgrp14.9', 'I10_PI0.35_L14___pc5_pgrp16', 'I10_PI0.35_L14___pc5_pgrp17', 'I10_PI0.35_L14___pc5_pgrp18.2', 'I10_PI0.35_L14___pc7.5_pgrp13.8', 'I10_PI0.35_L14___pc7.5_pgrp14.9', 'I10_PI0.35_L14___pc7.5_pgrp16', 'I10_PI0.35_L14___pc7.5_pgrp17', 'I10_PI0.35_L14___pc7.5_pgrp18.2', 'I10_PI0.35_L14___pc10_pgrp13.8', 'I10_PI0.35_L14___pc10_pgrp14.9', 'I10_PI0.35_L14___pc10_pgrp16', 'I10_PI0.35_L14___pc10_pgrp17', 'I10_PI0.35_L14___pc10_pgrp18.2', 'I10_PI0.35_L14___pc12.5_pgrp13.8', 'I10_PI0.35_L14___pc12.5_pgrp14.9', 'I10_PI0.35_L14___pc12.5_pgrp16', 'I10_PI0.35_L14___pc12.5_pgrp17', 'I10_PI0.35_L14___pc12.5_pgrp18.2', 'I10_PI0.35_L14___pc15_pgrp13.8', 'I10_PI0.35_L14___pc15_pgrp14.9', 'I10_PI0.35_L14___pc15_pgrp16', 'I10_PI0.35_L14___pc15_pgrp17', 'I10_PI0.35_L14___pc15_pgrp18.2', 'I10_PI0.45_L14___pc5_pgrp13.8', 'I10_PI0.45_L14___pc5_pgrp14.9', 'I10_PI0.45_L14___pc5_pgrp16', 'I10_PI0.45_L14___pc5_pgrp17', 'I10_PI0.45_L14___pc5_pgrp18.2', 'I10_PI0.45_L14___pc7.5_pgrp13.8', 'I10_PI0.45_L14___pc7.5_pgrp14.9', 'I10_PI0.45_L14___pc7.5_pgrp16', 'I10_PI0.45_L14___pc7.5_pgrp17', 'I10_PI0.45_L14___pc7.5_pgrp18.2', 'I10_PI0.45_L14___pc10_pgrp13.8', 'I10_PI0.45_L14___pc10_pgrp14.9', 'I10_PI0.45_L14___pc10_pgrp16', 'I10_PI0.45_L14___pc10_pgrp17', 'I10_PI0.45_L14___pc10_pgrp18.2', 'I10_PI0.45_L14___pc12.5_pgrp13.8', 'I10_PI0.45_L14___pc12.5_pgrp14.9', 'I10_PI0.45_L14___pc12.5_pgrp16', 'I10_PI0.45_L14___pc12.5_pgrp17', 'I10_PI0.45_L14___pc12.5_pgrp18.2', 'I10_PI0.45_L14___pc15_pgrp13.8', 'I10_PI0.45_L14___pc15_pgrp14.9', 'I10_PI0.45_L14___pc15_pgrp16', 'I10_PI0.45_L14___pc15_pgrp17', 'I10_PI0.45_L14___pc15_pgrp18.2'])"
      ]
     },
     "execution_count": 130,
     "metadata": {},
     "output_type": "execute_result"
    }
   ],
   "source": [
    "infection_maps.keys()"
   ]
  },
  {
   "cell_type": "code",
   "execution_count": 131,
   "metadata": {},
   "outputs": [
    {
     "ename": "KeyError",
     "evalue": "'I10_PI0.45_L28___pc15_pgrp18.2'",
     "output_type": "error",
     "traceback": [
      "\u001b[0;31m---------------------------------------------------------------------------\u001b[0m",
      "\u001b[0;31mKeyError\u001b[0m                                  Traceback (most recent call last)",
      "\u001b[0;32m<ipython-input-131-2f6c6b4c0671>\u001b[0m in \u001b[0;36m<module>\u001b[0;34m\u001b[0m\n\u001b[0;32m----> 1\u001b[0;31m \u001b[0mi\u001b[0m \u001b[0;34m=\u001b[0m \u001b[0minfection_maps\u001b[0m\u001b[0;34m[\u001b[0m\u001b[0;34m'I10_PI0.45_L28___pc15_pgrp18.2'\u001b[0m\u001b[0;34m]\u001b[0m\u001b[0;34m\u001b[0m\u001b[0;34m\u001b[0m\u001b[0m\n\u001b[0m\u001b[1;32m      2\u001b[0m \u001b[0mpop_for_model\u001b[0m \u001b[0;34m=\u001b[0m \u001b[0mpop_sizes\u001b[0m\u001b[0;34m[\u001b[0m\u001b[0mpop_sizes\u001b[0m\u001b[0;34m[\u001b[0m\u001b[0;34m'name'\u001b[0m\u001b[0;34m]\u001b[0m \u001b[0;34m==\u001b[0m \u001b[0;34m'I10_PI0.45_L28___pc15_pgrp18.2'\u001b[0m\u001b[0;34m]\u001b[0m\u001b[0;34m\u001b[0m\u001b[0;34m\u001b[0m\u001b[0m\n\u001b[1;32m      3\u001b[0m \u001b[0mp\u001b[0m \u001b[0;34m=\u001b[0m \u001b[0mpop_for_model\u001b[0m\u001b[0;34m.\u001b[0m\u001b[0mloc\u001b[0m\u001b[0;34m[\u001b[0m\u001b[0;34m'original'\u001b[0m\u001b[0;34m]\u001b[0m\u001b[0;34m\u001b[0m\u001b[0;34m\u001b[0m\u001b[0m\n",
      "\u001b[0;31mKeyError\u001b[0m: 'I10_PI0.45_L28___pc15_pgrp18.2'"
     ]
    }
   ],
   "source": [
    "i = infection_maps['I10_PI0.45_L28___pc15_pgrp18.2']\n",
    "pop_for_model = pop_sizes[pop_sizes['name'] == 'I10_PI0.45_L28___pc15_pgrp18.2']\n",
    "p = pop_for_model.loc['original']\n"
   ]
  },
  {
   "cell_type": "code",
   "execution_count": null,
   "metadata": {},
   "outputs": [],
   "source": [
    "i.head()"
   ]
  },
  {
   "cell_type": "code",
   "execution_count": null,
   "metadata": {},
   "outputs": [],
   "source": [
    "i[i['model_name'] == 'original']['White']/p['White']"
   ]
  },
  {
   "cell_type": "code",
   "execution_count": null,
   "metadata": {},
   "outputs": [],
   "source": [
    "pop_sizes.head()"
   ]
  },
  {
   "cell_type": "code",
   "execution_count": null,
   "metadata": {},
   "outputs": [],
   "source": [
    "fig, (ax1, ax2, ax3) = plt.subplots(3, figsize = (20, 20))\n",
    "fig.suptitle(\"Black Residents vs. White Residents\")\n",
    "\n",
    "model_colors = {\n",
    "    'original' : 'k',\n",
    "  #  'eq_forced_labour': 'b',\n",
    "    'no_prison': 'b',\n",
    "    'no_police': 'g',\n",
    "    'no_prison_or_police': 'r',\n",
    "    'no_forced_labour' : 'orange'\n",
    "}\n",
    "\n",
    "for k in model_colors.keys():\n",
    "    df = i[i['model_name'] == k]\n",
    "    pop_size = pop_for_model.loc[k]\n",
    "    #print(k + \"   \" + str(pop_size['Black_Forced_Labour']))\n",
    "    x = df['Black_Forced_Labour']/pop_size['Black_Forced_Labour']\n",
    "    y = df['Black']/pop_size['Black']\n",
    "    z = (df['Black'] + df['Black_Forced_Labour'])/ (pop_size['Black'] + pop_size['Black_Forced_Labour'])\n",
    "\n",
    "    ax1.plot(df.index, x , model_colors[k], alpha=0.85, lw=3, label = 'BLACK_' + k)\n",
    "    ax2.plot(df.index, y ,model_colors[k], alpha=0.85, lw=3, label='BLACK_' + k)\n",
    "    ax3.plot(df.index, z, model_colors[k], alpha =0.85, lw=3, label =  \"BLACK_\" + k)\n",
    "\n",
    "    if k in ['original', 'no_forced_labour']:\n",
    "        z2 = (df['White'] + df['White_Forced_Labour'])/(pop_size['White'] + pop_size['White_Forced_Labour'])\n",
    "\n",
    "        ax1.scatter(df.index, df['White_Forced_Labour']/pop_size['White_Forced_Labour'],\n",
    "                    color = model_colors[k], lw = 2, label = 'WHITE '+k)\n",
    "        ax2.scatter(df.index, df['White']/pop_size['White'], color = model_colors[k], lw = 2, label = 'WHITE '+ k)\n",
    "        ax3.scatter(df.index, z2, color = model_colors[k], lw = 2, label = 'WHITE '+k)\n",
    "    \n",
    "ax2.set_xlabel('Time /days')\n",
    "\n",
    "ax1.set_ylabel('Infection rate ')\n",
    "ax2.set_ylabel('Infection rate ')\n",
    "ax3.set_ylabel('Infection rate ')\n",
    "\n",
    "ax1.set_title('Infection Rate Black Force Labour')\n",
    "ax2.set_title('Infection Rate Black')\n",
    "ax2.set_title('Infection Rate Black / White All population + Forced Labour')\n",
    "\n",
    "ax1.legend(loc = 'best')\n",
    "ax2.legend()\n",
    "ax3.legend()\n",
    "# ax2.set_ylim(0,0.75)\n",
    "# ax1.set_ylim(0,0.75)\n",
    "\n",
    "ax2.set_xlim(10,100)\n",
    "ax1.set_xlim(10,100) \n",
    "ax2.yaxis.set_tick_params(length=0)\n",
    "# ax.xaxis.set_tick_params(length=0)\n",
    "# ax.grid(b=True, which='major', c='w', lw=2, ls='-')\n",
    " \n",
    "plt.show()"
   ]
  },
  {
   "cell_type": "code",
   "execution_count": null,
   "metadata": {},
   "outputs": [],
   "source": [
    "fig, (ax1, ax2, ax3) = plt.subplots(3, figsize = (20, 25))\n",
    "#fig.suptitle(\"Black Residents vs. White Residents\")\n",
    "plt.rc('font', size=16) \n",
    "\n",
    "model_colors = {\n",
    "    'original' : 'k',\n",
    "    'eq_forced_labour': 'b',\n",
    "    'eq_police_prison': 'g',\n",
    "    'eq_police_prison_fl': 'r',\n",
    "    'no_forced_labour' : 'orange'\n",
    "}\n",
    "for k in model_colors.keys():\n",
    "    df = i[i['model_name'] == k]\n",
    "    pop_size = pop_for_model.loc[k]\n",
    "    \n",
    "    x = df['Black_Forced_Labour']\n",
    "    y= df['Black']\n",
    "    z = (df['Black'] + df['Black_Forced_Labour'])\n",
    "\n",
    "    x2 = df['White_Forced_Labour']\n",
    "    y2 = df['White'] \n",
    "    z2 = (df['White'] + df['White_Forced_Labour'])\n",
    "\n",
    "    #/(pop_size['White'] + pop_size['White_Forced_Labour'])\n",
    "\n",
    "    ax1.plot(df.index, x , model_colors[k], alpha=0.5, lw=3, label=k+'')\n",
    "    ax2.plot(df.index, y ,model_colors[k], alpha=0.5, lw=3, label=k+'')\n",
    "    ax3.plot(df.index, z, model_colors[k], alpha = 0.5, lw = 3, label = k)\n",
    "\n",
    "#     if k in ['original', 'eq_police_prison_fl']:\n",
    "#         ax1.scatter(df.index, x2 , color = model_colors[k], alpha=0.5, lw=2, label='WHITE ' + k)\n",
    "#         ax2.scatter(df.index, y2 ,color = model_colors[k], alpha=0.5, lw=2, label='WHITE ' + k)\n",
    "#         ax3.scatter(df.index, z2, color = model_colors[k], alpha = 0.5, lw = 2, label ='WHITE ' + k)\n",
    "\n",
    "    \n",
    "ax2.set_xlabel('Time /days')\n",
    "ax2.set_ylabel('# Infections')\n",
    "ax1.set_ylabel(' # Infections')\n",
    "ax3.set_ylabel(' # Infections')\n",
    "\n",
    "ax1.set_title('# Infections Black Forced Labour')\n",
    "ax2.set_title('# Infections Black Non Forced Labour')\n",
    "ax2.set_title('# Infections Infection Rate All Black / White (Population and non forced labour)')\n",
    "# ax2.set_ylim(0,0.75)\n",
    "# ax1.set_ylim(0,0.75)\n",
    "\n",
    "ax2.set_xlim(10,100)\n",
    "ax1.set_xlim(10,100) \n",
    "ax2.yaxis.set_tick_params(length=0)\n",
    "# ax.xaxis.set_tick_params(length=0)\n",
    "# alegendrid(b=True, which='major', c='w', lw=2, ls='-')\n",
    " \n",
    "legend = ax1.legend()\n",
    "ax2.legend()\n",
    "ax3.legend()\n",
    "legend.get_frame().set_alpha(0.5)\n",
    "plt.show()"
   ]
  }
 ],
 "metadata": {
  "kernelspec": {
   "display_name": "Python 3",
   "language": "python",
   "name": "python3"
  },
  "language_info": {
   "codemirror_mode": {
    "name": "ipython",
    "version": 3
   },
   "file_extension": ".py",
   "mimetype": "text/x-python",
   "name": "python",
   "nbconvert_exporter": "python",
   "pygments_lexer": "ipython3",
   "version": "3.7.6"
  }
 },
 "nbformat": 4,
 "nbformat_minor": 4
}
